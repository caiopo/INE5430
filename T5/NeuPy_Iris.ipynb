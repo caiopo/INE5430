{
 "cells": [
  {
   "cell_type": "markdown",
   "metadata": {},
   "source": [
    "## Teste NeuPy com o dataset Iris"
   ]
  },
  {
   "cell_type": "markdown",
   "metadata": {},
   "source": [
    "Loading modules"
   ]
  },
  {
   "cell_type": "code",
   "execution_count": 9,
   "metadata": {
    "collapsed": true
   },
   "outputs": [],
   "source": [
    "%matplotlib inline\n",
    "from matplotlib import pyplot\n",
    "import numpy as np\n",
    "import random\n",
    "\n",
    "from neupy import environment, algorithms, layers, plots\n",
    "from neupy.exceptions import StopTraining\n",
    "\n",
    "from sklearn import datasets, model_selection\n",
    "from sklearn.model_selection import train_test_split\n",
    "from sklearn.preprocessing import OneHotEncoder\n",
    "\n",
    "import theano\n",
    "\n",
    "\n",
    "theano.config.floatX = 'float32'\n",
    "\n",
    "environment.reproducible()"
   ]
  },
  {
   "cell_type": "markdown",
   "metadata": {},
   "source": [
    "Loading **iris** dataset"
   ]
  },
  {
   "cell_type": "code",
   "execution_count": 10,
   "metadata": {},
   "outputs": [],
   "source": [
    "iris = datasets.load_iris()\n",
    "data, target = iris.data, iris.target"
   ]
  },
  {
   "cell_type": "markdown",
   "metadata": {},
   "source": [
    "Normalizing the dataset"
   ]
  },
  {
   "cell_type": "code",
   "execution_count": 11,
   "metadata": {
    "scrolled": true
   },
   "outputs": [],
   "source": [
    "data = data / 255\n",
    "data = data - data.mean(axis=0)\n",
    "\n",
    "target_scaler = OneHotEncoder()\n",
    "target = target_scaler.fit_transform(target.reshape((-1, 1)))\n",
    "target = target.todense()"
   ]
  },
  {
   "cell_type": "markdown",
   "metadata": {},
   "source": [
    "Separating the dataset into train and test"
   ]
  },
  {
   "cell_type": "code",
   "execution_count": 12,
   "metadata": {},
   "outputs": [],
   "source": [
    "data_train, data_test, target_train, target_test = train_test_split(\n",
    "    data,\n",
    "    target,\n",
    "    train_size=(6 / 7)\n",
    ")"
   ]
  },
  {
   "cell_type": "markdown",
   "metadata": {},
   "source": [
    "Creating the network"
   ]
  },
  {
   "cell_type": "code",
   "execution_count": 13,
   "metadata": {
    "scrolled": true
   },
   "outputs": [
    {
     "name": "stdout",
     "output_type": "stream",
     "text": [
      "\n",
      "Main information\n",
      "\n",
      "[ALGORITHM] GradientDescent\n",
      "\n",
      "[OPTION] verbose = True\n",
      "[OPTION] epoch_end_signal = on_epoch_end\n",
      "[OPTION] show_epoch = 50\n",
      "[OPTION] shuffle_data = False\n",
      "[OPTION] step = 0.1\n",
      "[OPTION] train_end_signal = None\n",
      "[OPTION] error = mse\n",
      "[OPTION] addons = None\n",
      "\n",
      "[THEANO] Initializing Theano variables and functions.\n",
      "[THEANO] Initialization finished successfully. It took 0.26 seconds\n"
     ]
    }
   ],
   "source": [
    "def on_epoch_end(net):\n",
    "    if net.errors.last() < 0.01:\n",
    "        raise StopTraining(\"Training has been interrupted\")\n",
    "\n",
    "\n",
    "net = algorithms.GradientDescent(\n",
    "    [\n",
    "        layers.Input(4),\n",
    "        layers.Relu(500),\n",
    "        layers.Softmax(3),\n",
    "    ],\n",
    "    verbose=True,\n",
    "    show_epoch=50,\n",
    "    epoch_end_signal=on_epoch_end,\n",
    ")"
   ]
  },
  {
   "cell_type": "code",
   "execution_count": 14,
   "metadata": {
    "scrolled": true
   },
   "outputs": [
    {
     "name": "stdout",
     "output_type": "stream",
     "text": [
      "\n",
      "Network's architecture\n",
      "\n",
      "\r",
      "-----------------------------------------------\n",
      "\r",
      "| # | Input shape | Layer Type | Output shape |\n",
      "\r",
      "-----------------------------------------------\n",
      "\r",
      "| 1 | 4           | Input      | 4            |\n",
      "\r",
      "| 2 | 4           | Relu       | 500          |\n",
      "\r",
      "| 3 | 500         | Softmax    | 3            |\n",
      "\r",
      "-----------------------------------------------\n",
      "\r\n"
     ]
    }
   ],
   "source": [
    "net.architecture()"
   ]
  },
  {
   "cell_type": "markdown",
   "metadata": {},
   "source": [
    "Let's Train! :)"
   ]
  },
  {
   "cell_type": "code",
   "execution_count": 15,
   "metadata": {
    "scrolled": true
   },
   "outputs": [
    {
     "name": "stdout",
     "output_type": "stream",
     "text": [
      "\n",
      "Start training\n",
      "\n",
      "[TRAINING DATA] shapes: (128, 4)\n",
      "[TEST DATA] shapes: (22, 4)\n",
      "[TRAINING] Total epochs: 10000\n",
      "\n",
      "------------------------------------------------\n",
      "| Epoch # | Train err | Valid err | Time       |\n",
      "------------------------------------------------\n",
      "| 1       | 0.2222    | 0.222     | 1 ms       |\n",
      "| 50      | 0.221     | 0.2234    | 1 ms       |\n",
      "| 100     | 0.2209    | 0.2247    | 1 ms       |\n",
      "| 150     | 0.2208    | 0.2255    | 1 ms       |\n",
      "| 200     | 0.2208    | 0.226     | 1 ms       |\n",
      "| 250     | 0.2208    | 0.2263    | 1 ms       |\n",
      "| 300     | 0.2208    | 0.2265    | 1 ms       |\n",
      "| 350     | 0.2208    | 0.2266    | 1 ms       |\n",
      "| 400     | 0.2207    | 0.2267    | 1 ms       |\n",
      "| 450     | 0.2207    | 0.2267    | 1 ms       |\n",
      "| 500     | 0.2207    | 0.2268    | 1 ms       |\n",
      "------------------------------------------------\n",
      "| Too many outputs in the terminal. Set up     |\n",
      "| logging after each 1250 epochs               |\n",
      "------------------------------------------------\n",
      "| 1250    | 0.2204    | 0.2267    | 1 ms       |\n",
      "| 2500    | 0.2199    | 0.2264    | 1 ms       |\n",
      "| 3750    | 0.2192    | 0.2261    | 1 ms       |\n",
      "| 5000    | 0.2183    | 0.2256    | 1 ms       |\n",
      "| 6250    | 0.2172    | 0.225     | 1 ms       |\n",
      "| 7500    | 0.2158    | 0.2243    | 1 ms       |\n",
      "| 8750    | 0.2139    | 0.2233    | 1 ms       |\n",
      "| 10000   | 0.2115    | 0.2221    | 1 ms       |\n",
      "------------------------------------------------\n",
      "\n"
     ]
    }
   ],
   "source": [
    "net.train(data_train, target_train, data_test, target_test, epochs=10000)"
   ]
  },
  {
   "cell_type": "code",
   "execution_count": 16,
   "metadata": {
    "scrolled": true
   },
   "outputs": [
    {
     "data": {
      "image/png": "[encoded data removed]",
      "text/plain": [
       "<matplotlib.figure.Figure at 0x7f2399d54e80>"
      ]
     },
     "metadata": {},
     "output_type": "display_data"
    },
    {
     "data": {
      "text/plain": [
       "<matplotlib.axes._subplots.AxesSubplot at 0x7f239a22e9e8>"
      ]
     },
     "execution_count": 16,
     "metadata": {},
     "output_type": "execute_result"
    }
   ],
   "source": [
    "plots.error_plot(net)"
   ]
  }
 ],
 "metadata": {
  "kernelspec": {
   "display_name": "Python 3",
   "language": "python",
   "name": "python3"
  },
  "language_info": {
   "codemirror_mode": {
    "name": "ipython",
    "version": 3
   },
   "file_extension": ".py",
   "mimetype": "text/x-python",
   "name": "python",
   "nbconvert_exporter": "python",
   "pygments_lexer": "ipython3",
   "version": "3.5.2"
  }
 },
 "nbformat": 4,
 "nbformat_minor": 2
}
