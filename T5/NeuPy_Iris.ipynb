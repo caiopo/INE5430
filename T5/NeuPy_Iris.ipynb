{
 "cells": [
  {
   "cell_type": "markdown",
   "metadata": {},
   "source": [
    "# Testing NeuPy with Iris dataset"
   ]
  },
  {
   "cell_type": "markdown",
   "metadata": {},
   "source": [
    "### Loading modules"
   ]
  },
  {
   "cell_type": "code",
   "execution_count": 1,
   "metadata": {
    "collapsed": true
   },
   "outputs": [],
   "source": [
    "%matplotlib inline\n",
    "from matplotlib.pyplot import plot\n",
    "import numpy as np\n",
    "import random\n",
    "\n",
    "from neupy import environment, algorithms, layers, plots\n",
    "from neupy.exceptions import StopTraining\n",
    "\n",
    "from sklearn import datasets, model_selection, metrics\n",
    "from sklearn.model_selection import train_test_split\n",
    "from sklearn.preprocessing import OneHotEncoder, StandardScaler\n",
    "\n",
    "import theano\n",
    "\n",
    "\n",
    "theano.config.floatX = 'float32'\n",
    "\n",
    "environment.reproducible()"
   ]
  },
  {
   "cell_type": "markdown",
   "metadata": {},
   "source": [
    "### Loading **iris** dataset"
   ]
  },
  {
   "cell_type": "code",
   "execution_count": 2,
   "metadata": {},
   "outputs": [],
   "source": [
    "iris = datasets.load_iris()\n",
    "data, target = iris.data, iris.target"
   ]
  },
  {
   "cell_type": "markdown",
   "metadata": {},
   "source": [
    "### Normalizing the dataset"
   ]
  },
  {
   "cell_type": "code",
   "execution_count": 3,
   "metadata": {
    "collapsed": true,
    "scrolled": true
   },
   "outputs": [],
   "source": [
    "data_scaler = StandardScaler()\n",
    "data_normalized = data_scaler.fit_transform(data)\n",
    "\n",
    "target_scaler = OneHotEncoder()\n",
    "target_normalized = target_scaler.fit_transform(target.reshape((-1, 1))).todense()"
   ]
  },
  {
   "cell_type": "markdown",
   "metadata": {},
   "source": [
    "### Separating the dataset into train and test"
   ]
  },
  {
   "cell_type": "code",
   "execution_count": 4,
   "metadata": {
    "collapsed": true
   },
   "outputs": [],
   "source": [
    "data_train, data_test, target_train, target_test = train_test_split(\n",
    "    data_normalized,\n",
    "    target_normalized,\n",
    "    train_size=(6 / 7)\n",
    ")"
   ]
  },
  {
   "cell_type": "markdown",
   "metadata": {},
   "source": [
    "### Creating the network"
   ]
  },
  {
   "cell_type": "code",
   "execution_count": 5,
   "metadata": {
    "scrolled": true
   },
   "outputs": [
    {
     "name": "stdout",
     "output_type": "stream",
     "text": [
      "\n",
      "Main information\n",
      "\n",
      "[ALGORITHM] MinibatchGradientDescent\n",
      "\n",
      "[OPTION] batch_size = 128\n",
      "[OPTION] verbose = True\n",
      "[OPTION] epoch_end_signal = callback\n",
      "[OPTION] show_epoch = 1200\n",
      "[OPTION] shuffle_data = False\n",
      "[OPTION] step = 0.1\n",
      "[OPTION] train_end_signal = None\n",
      "[OPTION] error = mse\n",
      "[OPTION] addons = None\n",
      "\n",
      "[THEANO] Initializing Theano variables and functions.\n",
      "[THEANO] Initialization finished successfully. It took 1.00 seconds\n"
     ]
    }
   ],
   "source": [
    "def check_goal(goal):\n",
    "    def callback(net):\n",
    "        if net.errors.last() < goal:\n",
    "            raise StopTraining(\"Goal reached\")\n",
    "\n",
    "    return callback\n",
    "\n",
    "net = algorithms.MinibatchGradientDescent(\n",
    "    [\n",
    "        layers.Input(4),\n",
    "        layers.Tanh(10),\n",
    "        layers.Tanh(3),\n",
    "    ],\n",
    "    verbose=True,\n",
    "    show_epoch=1200,\n",
    "    epoch_end_signal=check_goal(0.01),\n",
    ")"
   ]
  },
  {
   "cell_type": "code",
   "execution_count": 6,
   "metadata": {
    "scrolled": true
   },
   "outputs": [
    {
     "name": "stdout",
     "output_type": "stream",
     "text": [
      "\n",
      "Network's architecture\n",
      "\n",
      "\r",
      "-----------------------------------------------\n",
      "\r",
      "| # | Input shape | Layer Type | Output shape |\n",
      "\r",
      "-----------------------------------------------\n",
      "\r",
      "| 1 | 4           | Input      | 4            |\n",
      "\r",
      "| 2 | 4           | Tanh       | 10           |\n",
      "\r",
      "| 3 | 10          | Tanh       | 3            |\n",
      "\r",
      "-----------------------------------------------\n",
      "\r\n"
     ]
    }
   ],
   "source": [
    "net.architecture()"
   ]
  },
  {
   "cell_type": "markdown",
   "metadata": {},
   "source": [
    "### Let's Train! :)"
   ]
  },
  {
   "cell_type": "code",
   "execution_count": 7,
   "metadata": {
    "scrolled": false
   },
   "outputs": [
    {
     "name": "stdout",
     "output_type": "stream",
     "text": [
      "\n",
      "Start training\n",
      "\n",
      "[TRAINING DATA] shapes: (128, 4)\n",
      "[TEST DATA] shapes: (22, 4)\n",
      "[TRAINING] Total epochs: 10000\n",
      "\n",
      "------------------------------------------------\n",
      "| Epoch # | Train err | Valid err | Time       |\n",
      "------------------------------------------------\n",
      "| 1       | 0.92      | 0.7772    | 1 ms       |\n",
      "| 1200    | 0.02293   | 0.0276    | 0 ms       |\n",
      "| 2400    | 0.01915   | 0.01899   | 0 ms       |\n",
      "| 3600    | 0.01773   | 0.01547   | 0 ms       |\n",
      "| 4800    | 0.0168    | 0.01313   | 0 ms       |\n",
      "| 6000    | 0.01612   | 0.01134   | 0 ms       |\n",
      "| 7200    | 0.01558   | 0.009904  | 0 ms       |\n",
      "| 8400    | 0.01515   | 0.008745  | 0 ms       |\n",
      "| 9600    | 0.01478   | 0.007796  | 0 ms       |\n",
      "| 10000   | 0.01467   | 0.007519  | 0 ms       |\n",
      "------------------------------------------------\n",
      "\n"
     ]
    }
   ],
   "source": [
    "net.train(data_train, target_train, data_test, target_test, epochs=10000)"
   ]
  },
  {
   "cell_type": "code",
   "execution_count": 8,
   "metadata": {
    "scrolled": true
   },
   "outputs": [
    {
     "data": {
      "image/png": "[encoded data removed]",
      "text/plain": [
       "<matplotlib.figure.Figure at 0x7f72c023c6a0>"
      ]
     },
     "metadata": {},
     "output_type": "display_data"
    },
    {
     "data": {
      "text/plain": [
       "<matplotlib.axes._subplots.AxesSubplot at 0x7f728022fda0>"
      ]
     },
     "execution_count": 8,
     "metadata": {},
     "output_type": "execute_result"
    }
   ],
   "source": [
    "plots.error_plot(net)"
   ]
  },
  {
   "cell_type": "markdown",
   "metadata": {},
   "source": [
    "### Now we can test the network"
   ]
  },
  {
   "cell_type": "code",
   "execution_count": 9,
   "metadata": {},
   "outputs": [
    {
     "name": "stdout",
     "output_type": "stream",
     "text": [
      "                                                                  \r"
     ]
    },
    {
     "data": {
      "text/plain": [
       "[<matplotlib.lines.Line2D at 0x7f727c6a2e48>,\n",
       " <matplotlib.lines.Line2D at 0x7f727c6a2f98>,\n",
       " <matplotlib.lines.Line2D at 0x7f727feef198>]"
      ]
     },
     "execution_count": 9,
     "metadata": {},
     "output_type": "execute_result"
    },
    {
     "data": {
      "image/png": "[encoded data removed]",
      "text/plain": [
       "<matplotlib.figure.Figure at 0x7f727febbb70>"
      ]
     },
     "metadata": {},
     "output_type": "display_data"
    }
   ],
   "source": [
    "predicted = net.predict(data_normalized)\n",
    "predicted_classes = np.asarray(predicted.argmax(axis=1)).reshape(-1)\n",
    "\n",
    "plot(predicted, '.')"
   ]
  },
  {
   "cell_type": "code",
   "execution_count": 10,
   "metadata": {},
   "outputs": [
    {
     "data": {
      "text/plain": [
       "array([[50,  0,  0],\n",
       "       [ 0, 47,  3],\n",
       "       [ 0,  1, 49]])"
      ]
     },
     "execution_count": 10,
     "metadata": {},
     "output_type": "execute_result"
    }
   ],
   "source": [
    "metrics.confusion_matrix(target, predicted_classes)"
   ]
  },
  {
   "cell_type": "code",
   "execution_count": 11,
   "metadata": {
    "scrolled": true
   },
   "outputs": [
    {
     "name": "stdout",
     "output_type": "stream",
     "text": [
      "             precision    recall  f1-score   support\n",
      "\n",
      "          0       1.00      1.00      1.00        50\n",
      "          1       0.98      0.94      0.96        50\n",
      "          2       0.94      0.98      0.96        50\n",
      "\n",
      "avg / total       0.97      0.97      0.97       150\n",
      "\n"
     ]
    }
   ],
   "source": [
    "print(metrics.classification_report(target, predicted_classes))"
   ]
  },
  {
   "cell_type": "code",
   "execution_count": 12,
   "metadata": {
    "scrolled": false
   },
   "outputs": [
    {
     "data": {
      "text/plain": [
       "'Validation accuracy: 97.33%'"
      ]
     },
     "execution_count": 12,
     "metadata": {},
     "output_type": "execute_result"
    }
   ],
   "source": [
    "score = metrics.accuracy_score(target, predicted_classes)\n",
    "\"Validation accuracy: {:.2%}\".format(score)"
   ]
  }
 ],
 "metadata": {
  "kernelspec": {
   "display_name": "Python 3",
   "language": "python",
   "name": "python3"
  },
  "language_info": {
   "codemirror_mode": {
    "name": "ipython",
    "version": 3
   },
   "file_extension": ".py",
   "mimetype": "text/x-python",
   "name": "python",
   "nbconvert_exporter": "python",
   "pygments_lexer": "ipython3",
   "version": "3.5.2"
  }
 },
 "nbformat": 4,
 "nbformat_minor": 2
}
