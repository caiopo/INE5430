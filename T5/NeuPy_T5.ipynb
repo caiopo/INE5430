{
 "cells": [
  {
   "cell_type": "markdown",
   "metadata": {},
   "source": [
    "# Testing NeuPy with Iris dataset"
   ]
  },
  {
   "cell_type": "markdown",
   "metadata": {},
   "source": [
    "### Loading modules"
   ]
  },
  {
   "cell_type": "code",
   "execution_count": 1,
   "metadata": {
    "collapsed": true
   },
   "outputs": [],
   "source": [
    "%matplotlib inline\n",
    "from matplotlib.pyplot import plot\n",
    "import numpy as np\n",
    "import random\n",
    "\n",
    "from neupy import environment, algorithms, layers, plots\n",
    "from neupy.exceptions import StopTraining\n",
    "\n",
    "from sklearn import datasets, model_selection, metrics\n",
    "from sklearn.model_selection import train_test_split\n",
    "from sklearn.preprocessing import OneHotEncoder, StandardScaler\n",
    "\n",
    "import theano\n",
    "\n",
    "\n",
    "theano.config.floatX = 'float32'\n",
    "\n",
    "environment.reproducible()"
   ]
  },
  {
   "cell_type": "markdown",
   "metadata": {},
   "source": [
    "### Loading **iris** dataset"
   ]
  },
  {
   "cell_type": "code",
   "execution_count": 2,
   "metadata": {
    "scrolled": false
   },
   "outputs": [],
   "source": [
    "digits = np.loadtxt('exdata.csv', delimiter=',')\n",
    "\n",
    "data = digits[:-1].T\n",
    "target = digits[-1]\n",
    "\n",
    "target[target == 10] = 0"
   ]
  },
  {
   "cell_type": "markdown",
   "metadata": {},
   "source": [
    "### Normalizing the dataset"
   ]
  },
  {
   "cell_type": "code",
   "execution_count": 3,
   "metadata": {
    "collapsed": true,
    "scrolled": true
   },
   "outputs": [],
   "source": [
    "data_scaler = StandardScaler()\n",
    "data_normalized = data_scaler.fit_transform(data)\n",
    "\n",
    "target_scaler = OneHotEncoder()\n",
    "target_normalized = target_scaler.fit_transform(target.reshape((-1, 1))).todense()"
   ]
  },
  {
   "cell_type": "markdown",
   "metadata": {},
   "source": [
    "### Separating the dataset into train and test"
   ]
  },
  {
   "cell_type": "code",
   "execution_count": 4,
   "metadata": {},
   "outputs": [],
   "source": [
    "data_train, data_test, target_train, target_test = train_test_split(\n",
    "    data_normalized,\n",
    "    target_normalized,\n",
    "    train_size=(6 / 7),\n",
    ")"
   ]
  },
  {
   "cell_type": "markdown",
   "metadata": {},
   "source": [
    "### Creating the network"
   ]
  },
  {
   "cell_type": "code",
   "execution_count": 5,
   "metadata": {
    "scrolled": true
   },
   "outputs": [
    {
     "name": "stdout",
     "output_type": "stream",
     "text": [
      "\n",
      "Main information\n",
      "\n",
      "[ALGORITHM] MinibatchGradientDescent\n",
      "\n",
      "[OPTION] batch_size = 128\n",
      "[OPTION] verbose = True\n",
      "[OPTION] epoch_end_signal = callback\n",
      "[OPTION] show_epoch = 1200\n",
      "[OPTION] shuffle_data = False\n",
      "[OPTION] step = 0.1\n",
      "[OPTION] train_end_signal = None\n",
      "[OPTION] error = mse\n",
      "[OPTION] addons = None\n",
      "\n",
      "[THEANO] Initializing Theano variables and functions.\n",
      "[THEANO] Initialization finished successfully. It took 0.96 seconds\n"
     ]
    }
   ],
   "source": [
    "def check_goal(goal):\n",
    "    def callback(net):\n",
    "        if net.errors.last() < goal:\n",
    "            raise StopTraining(\"Goal reached\")\n",
    "\n",
    "    return callback\n",
    "\n",
    "net = algorithms.MinibatchGradientDescent(\n",
    "    [\n",
    "        layers.Input(400),\n",
    "        layers.Tanh(35),\n",
    "        layers.Tanh(10),\n",
    "    ],\n",
    "    verbose=True,\n",
    "    show_epoch=1200,\n",
    "#     nesterov=True,\n",
    "    epoch_end_signal=check_goal(0.01),\n",
    ")"
   ]
  },
  {
   "cell_type": "code",
   "execution_count": 6,
   "metadata": {
    "scrolled": true
   },
   "outputs": [
    {
     "name": "stdout",
     "output_type": "stream",
     "text": [
      "\n",
      "Network's architecture\n",
      "\n",
      "\r",
      "-----------------------------------------------\n",
      "\r",
      "| # | Input shape | Layer Type | Output shape |\n",
      "\r",
      "-----------------------------------------------\n",
      "\r",
      "| 1 | 400         | Input      | 400          |\n",
      "\r",
      "| 2 | 400         | Tanh       | 35           |\n",
      "\r",
      "| 3 | 35          | Tanh       | 10           |\n",
      "\r",
      "-----------------------------------------------\n",
      "\r\n"
     ]
    }
   ],
   "source": [
    "net.architecture()"
   ]
  },
  {
   "cell_type": "markdown",
   "metadata": {},
   "source": [
    "### Let's Train! :)"
   ]
  },
  {
   "cell_type": "code",
   "execution_count": 7,
   "metadata": {
    "scrolled": true
   },
   "outputs": [
    {
     "name": "stdout",
     "output_type": "stream",
     "text": [
      "\n",
      "Start training\n",
      "\n",
      "[TRAINING DATA] shapes: (4285, 400)\n",
      "[TEST DATA] shapes: (715, 400)\n",
      "[TRAINING] Total epochs: 10000\n",
      "\n",
      "------------------------------------------------\n",
      "| Epoch # | Train err | Valid err | Time       |\n",
      "------------------------------------------------\n",
      "| 1       | 0.3125    | 0.216     | 34 ms      |\n",
      "| 1200    | 0.01755   | 0.03336   | 25 ms      |\n",
      "| 2400    | 0.01478   | 0.03457   | 25 ms      |\n",
      "| 3600    | 0.01355   | 0.03565   | 25 ms      |\n",
      "| 4800    | 0.01281   | 0.0368    | 34 ms      |\n",
      "| 6000    | 0.01225   | 0.03763   | 26 ms      |\n",
      "| 7200    | 0.01183   | 0.03854   | 28 ms      |\n",
      "| 8400    | 0.01151   | 0.03924   | 25 ms      |\n",
      "| 9600    | 0.01126   | 0.03976   | 0.1 sec    |\n",
      "| 10000   | 0.01119   | 0.03991   | 26 ms      |\n",
      "------------------------------------------------\n",
      "\n"
     ]
    }
   ],
   "source": [
    "net.train(data_train, target_train, data_test, target_test, epochs=10000)"
   ]
  },
  {
   "cell_type": "code",
   "execution_count": 8,
   "metadata": {
    "scrolled": true
   },
   "outputs": [
    {
     "data": {
      "image/png": "[encoded data removed]",
      "text/plain": [
       "<matplotlib.figure.Figure at 0x7faf9c61d748>"
      ]
     },
     "metadata": {},
     "output_type": "display_data"
    },
    {
     "data": {
      "text/plain": [
       "<matplotlib.axes._subplots.AxesSubplot at 0x7faf5d4cac50>"
      ]
     },
     "execution_count": 8,
     "metadata": {},
     "output_type": "execute_result"
    }
   ],
   "source": [
    "plots.error_plot(net)"
   ]
  },
  {
   "cell_type": "markdown",
   "metadata": {},
   "source": [
    "### Now we can test the network"
   ]
  },
  {
   "cell_type": "markdown",
   "metadata": {},
   "source": [
    "#### First on the whole dataset"
   ]
  },
  {
   "cell_type": "code",
   "execution_count": 9,
   "metadata": {
    "scrolled": true
   },
   "outputs": [
    {
     "name": "stdout",
     "output_type": "stream",
     "text": [
      "                                                                   \r"
     ]
    }
   ],
   "source": [
    "predicted = net.predict(data_normalized)\n",
    "predicted_classes = np.asarray(predicted.argmax(axis=1)).reshape(-1)"
   ]
  },
  {
   "cell_type": "code",
   "execution_count": 10,
   "metadata": {},
   "outputs": [
    {
     "data": {
      "text/plain": [
       "array([[494,   0,   0,   1,   1,   0,   2,   0,   2,   0],\n",
       "       [  1, 496,   1,   0,   0,   0,   1,   0,   1,   0],\n",
       "       [  0,   0, 486,   4,   0,   0,   5,   2,   3,   0],\n",
       "       [  0,   1,   0, 490,   1,   3,   0,   4,   1,   0],\n",
       "       [  1,   1,   3,   0, 492,   0,   2,   0,   0,   1],\n",
       "       [  1,   1,   1,   2,   2, 488,   1,   0,   3,   1],\n",
       "       [  3,   2,   0,   0,   2,   5, 487,   0,   1,   0],\n",
       "       [  1,   5,   1,   0,   1,   0,   0, 490,   0,   2],\n",
       "       [  0,   3,   0,   1,   3,   4,   2,   0, 485,   2],\n",
       "       [  2,   1,   1,   4,   2,   1,   0,   4,   3, 482]])"
      ]
     },
     "execution_count": 10,
     "metadata": {},
     "output_type": "execute_result"
    }
   ],
   "source": [
    "metrics.confusion_matrix(target, predicted_classes)"
   ]
  },
  {
   "cell_type": "code",
   "execution_count": 11,
   "metadata": {
    "scrolled": false
   },
   "outputs": [
    {
     "name": "stdout",
     "output_type": "stream",
     "text": [
      "             precision    recall  f1-score   support\n",
      "\n",
      "        0.0       0.98      0.99      0.99       500\n",
      "        1.0       0.97      0.99      0.98       500\n",
      "        2.0       0.99      0.97      0.98       500\n",
      "        3.0       0.98      0.98      0.98       500\n",
      "        4.0       0.98      0.98      0.98       500\n",
      "        5.0       0.97      0.98      0.98       500\n",
      "        6.0       0.97      0.97      0.97       500\n",
      "        7.0       0.98      0.98      0.98       500\n",
      "        8.0       0.97      0.97      0.97       500\n",
      "        9.0       0.99      0.96      0.98       500\n",
      "\n",
      "avg / total       0.98      0.98      0.98      5000\n",
      "\n"
     ]
    }
   ],
   "source": [
    "print(metrics.classification_report(target, predicted_classes))"
   ]
  },
  {
   "cell_type": "markdown",
   "metadata": {},
   "source": [
    "### Then only on the test set"
   ]
  },
  {
   "cell_type": "code",
   "execution_count": 12,
   "metadata": {
    "scrolled": true
   },
   "outputs": [
    {
     "name": "stdout",
     "output_type": "stream",
     "text": [
      "                                                                  \r"
     ]
    }
   ],
   "source": [
    "predicted_test = net.predict(data_test)\n",
    "predicted_test_classes = np.asarray(predicted_test.argmax(axis=1)).reshape(-1)\n",
    "target_test_classes = np.asarray(target_test.argmax(axis=1)).reshape(-1)"
   ]
  },
  {
   "cell_type": "code",
   "execution_count": 13,
   "metadata": {
    "scrolled": true
   },
   "outputs": [
    {
     "data": {
      "text/plain": [
       "array([[75,  0,  0,  1,  0,  0,  0,  0,  1,  0],\n",
       "       [ 1, 68,  0,  0,  0,  0,  1,  0,  1,  0],\n",
       "       [ 0,  0, 55,  4,  0,  0,  3,  2,  3,  0],\n",
       "       [ 0,  0,  0, 58,  0,  3,  0,  1,  0,  0],\n",
       "       [ 1,  1,  3,  0, 52,  0,  2,  0,  0,  1],\n",
       "       [ 1,  1,  1,  1,  1, 73,  0,  0,  3,  1],\n",
       "       [ 0,  0,  0,  0,  2,  4, 58,  0,  1,  0],\n",
       "       [ 1,  2,  0,  0,  0,  0,  0, 77,  0,  2],\n",
       "       [ 0,  2,  0,  1,  3,  4,  1,  0, 66,  2],\n",
       "       [ 1,  1,  1,  1,  2,  1,  0,  4,  1, 58]])"
      ]
     },
     "execution_count": 13,
     "metadata": {},
     "output_type": "execute_result"
    }
   ],
   "source": [
    "metrics.confusion_matrix(target_test_classes, predicted_test_classes)"
   ]
  },
  {
   "cell_type": "code",
   "execution_count": 14,
   "metadata": {
    "scrolled": false
   },
   "outputs": [
    {
     "name": "stdout",
     "output_type": "stream",
     "text": [
      "             precision    recall  f1-score   support\n",
      "\n",
      "          0       0.94      0.97      0.96        77\n",
      "          1       0.91      0.96      0.93        71\n",
      "          2       0.92      0.82      0.87        67\n",
      "          3       0.88      0.94      0.91        62\n",
      "          4       0.87      0.87      0.87        60\n",
      "          5       0.86      0.89      0.87        82\n",
      "          6       0.89      0.89      0.89        65\n",
      "          7       0.92      0.94      0.93        82\n",
      "          8       0.87      0.84      0.85        79\n",
      "          9       0.91      0.83      0.87        70\n",
      "\n",
      "avg / total       0.90      0.90      0.89       715\n",
      "\n"
     ]
    }
   ],
   "source": [
    "print(metrics.classification_report(target_test_classes, predicted_test_classes))"
   ]
  },
  {
   "cell_type": "code",
   "execution_count": 15,
   "metadata": {
    "scrolled": true
   },
   "outputs": [
    {
     "name": "stdout",
     "output_type": "stream",
     "text": [
      "Dataset accuracy: 97.80%\n",
      "Test set accuracy: 89.51%\n"
     ]
    }
   ],
   "source": [
    "print(\"Dataset accuracy: {:.2%}\".format(metrics.accuracy_score(target, predicted_classes)))\n",
    "print(\"Test set accuracy: {:.2%}\".format(metrics.accuracy_score(target_test_classes, predicted_test_classes)))"
   ]
  }
 ],
 "metadata": {
  "kernelspec": {
   "display_name": "Python 3",
   "language": "python",
   "name": "python3"
  },
  "language_info": {
   "codemirror_mode": {
    "name": "ipython",
    "version": 3
   },
   "file_extension": ".py",
   "mimetype": "text/x-python",
   "name": "python",
   "nbconvert_exporter": "python",
   "pygments_lexer": "ipython3",
   "version": "3.5.2"
  }
 },
 "nbformat": 4,
 "nbformat_minor": 2
}
