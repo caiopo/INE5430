{
 "cells": [
  {
   "cell_type": "markdown",
   "metadata": {},
   "source": [
    "### Carregando os Módulos"
   ]
  },
  {
   "cell_type": "code",
   "execution_count": 1,
   "metadata": {
    "collapsed": true
   },
   "outputs": [],
   "source": [
    "%matplotlib inline\n",
    "from matplotlib.pyplot import plot\n",
    "import numpy as np\n",
    "import random\n",
    "\n",
    "from neupy import environment, algorithms, layers, plots\n",
    "from neupy.exceptions import StopTraining\n",
    "\n",
    "from sklearn import datasets, model_selection, metrics\n",
    "from sklearn.model_selection import train_test_split\n",
    "from sklearn.preprocessing import OneHotEncoder, StandardScaler\n",
    "\n",
    "import theano\n",
    "\n",
    "\n",
    "theano.config.floatX = 'float32'\n",
    "\n",
    "environment.reproducible()"
   ]
  },
  {
   "cell_type": "markdown",
   "metadata": {},
   "source": [
    "### Carregando Dataset"
   ]
  },
  {
   "cell_type": "code",
   "execution_count": 2,
   "metadata": {
    "collapsed": true,
    "scrolled": false
   },
   "outputs": [],
   "source": [
    "digits = np.loadtxt('exdata.csv', delimiter=',')\n",
    "\n",
    "data = digits[:-1].T\n",
    "target = digits[-1]\n",
    "\n",
    "target[target == 10] = 0"
   ]
  },
  {
   "cell_type": "markdown",
   "metadata": {},
   "source": [
    "### Normalizando os Dados"
   ]
  },
  {
   "cell_type": "code",
   "execution_count": 3,
   "metadata": {
    "collapsed": true,
    "scrolled": true
   },
   "outputs": [],
   "source": [
    "data_scaler = StandardScaler()\n",
    "data_normalized = data_scaler.fit_transform(data)\n",
    "\n",
    "target_scaler = OneHotEncoder()\n",
    "target_normalized = target_scaler.fit_transform(target.reshape((-1, 1))).todense()"
   ]
  },
  {
   "cell_type": "markdown",
   "metadata": {},
   "source": [
    "\n",
    "Para normalizar os dados foi utilizada a classe StandardScaler que permite guardar os parâmetros utilizados para pode reverter a normalização dos dados ou utilizar a mesma normalização em outros dados. Para normalizar é calculado a média e desvio padrão para criar os parâmetros. O método fit_transform realiza o cálculo e a normalização.\n",
    "    \n",
    "A normalização da saída é feita utilizando OneHotEncoder, que transforma aquela saída única em um vetor colocando 0 paras as outras possíveis saídas da rede e 1 para a saída correta."
   ]
  },
  {
   "cell_type": "markdown",
   "metadata": {},
   "source": [
    "### Separando os Dados em Treinamento e Teste"
   ]
  },
  {
   "cell_type": "code",
   "execution_count": 4,
   "metadata": {
    "collapsed": true
   },
   "outputs": [],
   "source": [
    "data_train, data_test, target_train, target_test = train_test_split(\n",
    "    data_normalized,\n",
    "    target_normalized,\n",
    "    train_size=(85/100),\n",
    ")"
   ]
  },
  {
   "cell_type": "markdown",
   "metadata": {},
   "source": [
    "\n",
    "Foi separado 15% dos dados para formarem o conjunto de teste."
   ]
  },
  {
   "cell_type": "markdown",
   "metadata": {},
   "source": [
    "### Criando a Rede"
   ]
  },
  {
   "cell_type": "markdown",
   "metadata": {},
   "source": [
    "\n",
    "A rede é configurada da seguinte forma: a camada de entrada com 400 neurônios, a hidden layer com 35 neurônios e a camada de saída com 10 neurônios, ambas com a função tangente.\n",
    "\n",
    "O algoritmo de treinamento utilizado foi o MinibatchGradientDescent que é um gradiente descentente divido em batchs para melhoro desempenho. Também foi configurado um objetivo para tentar alcançar um erro de 0.01 e uma taxa de aprendizado de 0.1."
   ]
  },
  {
   "cell_type": "code",
   "execution_count": 5,
   "metadata": {
    "scrolled": true
   },
   "outputs": [
    {
     "name": "stdout",
     "output_type": "stream",
     "text": [
      "\n",
      "Main information\n",
      "\n",
      "[ALGORITHM] MinibatchGradientDescent\n",
      "\n",
      "[OPTION] batch_size = 128\n",
      "[OPTION] verbose = True\n",
      "[OPTION] epoch_end_signal = callback\n",
      "[OPTION] show_epoch = 1000\n",
      "[OPTION] shuffle_data = False\n",
      "[OPTION] step = 0.1\n",
      "[OPTION] train_end_signal = None\n",
      "[OPTION] error = mse\n",
      "[OPTION] addons = None\n",
      "\n",
      "[THEANO] Initializing Theano variables and functions.\n",
      "[THEANO] Initialization finished successfully. It took 1.06 seconds\n"
     ]
    }
   ],
   "source": [
    "def check_goal(goal):\n",
    "    def callback(net):\n",
    "        if net.errors.last() < goal:\n",
    "            raise StopTraining(\"Goal reached\")\n",
    "\n",
    "    return callback\n",
    "\n",
    "net = algorithms.MinibatchGradientDescent(\n",
    "    [\n",
    "        layers.Input(00),\n",
    "        layers.Tanh(35),\n",
    "        layers.Tanh(10),\n",
    "    ],\n",
    "    verbose=True,\n",
    "    show_epoch=1000,\n",
    "#     nesterov=True,\n",
    "    epoch_end_signal=check_goal(0.01),\n",
    ")"
   ]
  },
  {
   "cell_type": "code",
   "execution_count": 6,
   "metadata": {
    "scrolled": true
   },
   "outputs": [
    {
     "name": "stdout",
     "output_type": "stream",
     "text": [
      "\n",
      "Network's architecture\n",
      "\n",
      "\r",
      "-----------------------------------------------\n",
      "\r",
      "| # | Input shape | Layer Type | Output shape |\n",
      "\r",
      "-----------------------------------------------\n",
      "\r",
      "| 1 | 400         | Input      | 400          |\n",
      "\r",
      "| 2 | 400         | Tanh       | 35           |\n",
      "\r",
      "| 3 | 35          | Tanh       | 10           |\n",
      "\r",
      "-----------------------------------------------\n",
      "\r\n"
     ]
    }
   ],
   "source": [
    "net.architecture()"
   ]
  },
  {
   "cell_type": "markdown",
   "metadata": {},
   "source": [
    "### Treinando a Rede"
   ]
  },
  {
   "cell_type": "markdown",
   "metadata": {},
   "source": [
    "\n",
    "Ao treinar a rede foi estabelecido os sinais de parada de 10000 épocas ou atingir o objetivo para o erro já estabelecido acima de 0.01."
   ]
  },
  {
   "cell_type": "code",
   "execution_count": 7,
   "metadata": {
    "scrolled": true
   },
   "outputs": [
    {
     "name": "stdout",
     "output_type": "stream",
     "text": [
      "\n",
      "Start training\n",
      "\n",
      "[TRAINING DATA] shapes: (4250, 400)\n",
      "[TEST DATA] shapes: (750, 400)\n",
      "[TRAINING] Total epochs: 10000\n",
      "\n",
      "------------------------------------------------\n",
      "| Epoch # | Train err | Valid err | Time       |\n",
      "------------------------------------------------\n",
      "| 1       | 0.3136    | 0.2159    | 38 ms      |\n",
      "| 1000    | 0.01828   | 0.03366   | 22 ms      |\n",
      "| 2000    | 0.01553   | 0.03416   | 24 ms      |\n",
      "| 3000    | 0.0143    | 0.03565   | 24 ms      |\n",
      "| 4000    | 0.01353   | 0.03722   | 25 ms      |\n",
      "| 5000    | 0.01296   | 0.03817   | 24 ms      |\n",
      "| 6000    | 0.01253   | 0.03883   | 24 ms      |\n",
      "| 7000    | 0.01217   | 0.03935   | 24 ms      |\n",
      "| 8000    | 0.01189   | 0.03977   | 24 ms      |\n",
      "| 9000    | 0.01166   | 0.04017   | 24 ms      |\n",
      "| 10000   | 0.01145   | 0.04064   | 24 ms      |\n",
      "------------------------------------------------\n",
      "\n"
     ]
    }
   ],
   "source": [
    "net.train(data_train, target_train, data_test, target_test, epochs=10000)"
   ]
  },
  {
   "cell_type": "code",
   "execution_count": 8,
   "metadata": {
    "scrolled": true
   },
   "outputs": [
    {
     "data": {
      "image/png": "[encoded data removed]",
      "text/plain": [
       "<matplotlib.figure.Figure at 0x7f28450cdd68>"
      ]
     },
     "metadata": {},
     "output_type": "display_data"
    },
    {
     "data": {
      "text/plain": [
       "<matplotlib.axes._subplots.AxesSubplot at 0x7f2810cf0b70>"
      ]
     },
     "execution_count": 8,
     "metadata": {},
     "output_type": "execute_result"
    }
   ],
   "source": [
    "plots.error_plot(net)"
   ]
  },
  {
   "cell_type": "markdown",
   "metadata": {},
   "source": [
    "### Teste da Rede"
   ]
  },
  {
   "cell_type": "markdown",
   "metadata": {},
   "source": [
    "#### Teste Utilizando Todos os Dados"
   ]
  },
  {
   "cell_type": "code",
   "execution_count": 9,
   "metadata": {
    "scrolled": true
   },
   "outputs": [
    {
     "name": "stdout",
     "output_type": "stream",
     "text": [
      "                                                                   \r"
     ]
    }
   ],
   "source": [
    "predicted = net.predict(data_normalized)\n",
    "predicted_classes = np.asarray(predicted.argmax(axis=1)).reshape(-1)"
   ]
  },
  {
   "cell_type": "markdown",
   "metadata": {},
   "source": [
    "\n",
    "Matriz de confusão para todo o conjunto de dados."
   ]
  },
  {
   "cell_type": "code",
   "execution_count": 10,
   "metadata": {},
   "outputs": [
    {
     "data": {
      "text/plain": [
       "array([[494,   0,   0,   1,   1,   0,   3,   0,   1,   0],\n",
       "       [  1, 494,   0,   0,   0,   0,   2,   0,   2,   1],\n",
       "       [  1,   1, 484,   3,   1,   0,   2,   3,   3,   2],\n",
       "       [  0,   1,   3, 485,   2,   1,   1,   4,   2,   1],\n",
       "       [  1,   2,   2,   0, 493,   0,   2,   0,   0,   0],\n",
       "       [  2,   1,   0,   3,   2, 486,   2,   0,   4,   0],\n",
       "       [  3,   2,   1,   0,   2,   4, 485,   0,   2,   1],\n",
       "       [  2,   5,   0,   1,   1,   0,   0, 489,   1,   1],\n",
       "       [  2,   2,   0,   2,   1,   3,   2,   0, 487,   1],\n",
       "       [  2,   1,   0,   5,   2,   2,   0,   6,   3, 479]])"
      ]
     },
     "execution_count": 10,
     "metadata": {},
     "output_type": "execute_result"
    }
   ],
   "source": [
    "metrics.confusion_matrix(target, predicted_classes)"
   ]
  },
  {
   "cell_type": "code",
   "execution_count": 11,
   "metadata": {
    "scrolled": false
   },
   "outputs": [
    {
     "name": "stdout",
     "output_type": "stream",
     "text": [
      "             precision    recall  f1-score   support\n",
      "\n",
      "        0.0       0.97      0.99      0.98       500\n",
      "        1.0       0.97      0.99      0.98       500\n",
      "        2.0       0.99      0.97      0.98       500\n",
      "        3.0       0.97      0.97      0.97       500\n",
      "        4.0       0.98      0.99      0.98       500\n",
      "        5.0       0.98      0.97      0.98       500\n",
      "        6.0       0.97      0.97      0.97       500\n",
      "        7.0       0.97      0.98      0.98       500\n",
      "        8.0       0.96      0.97      0.97       500\n",
      "        9.0       0.99      0.96      0.97       500\n",
      "\n",
      "avg / total       0.98      0.98      0.98      5000\n",
      "\n"
     ]
    }
   ],
   "source": [
    "print(metrics.classification_report(target, predicted_classes))"
   ]
  },
  {
   "cell_type": "markdown",
   "metadata": {},
   "source": [
    "#### Teste Utilizando Apenas o Conjunto de Teste"
   ]
  },
  {
   "cell_type": "code",
   "execution_count": 12,
   "metadata": {
    "scrolled": true
   },
   "outputs": [
    {
     "name": "stdout",
     "output_type": "stream",
     "text": [
      "                                                                  \r"
     ]
    }
   ],
   "source": [
    "predicted_test = net.predict(data_test)\n",
    "predicted_test_classes = np.asarray(predicted_test.argmax(axis=1)).reshape(-1)\n",
    "target_test_classes = np.asarray(target_test.argmax(axis=1)).reshape(-1)"
   ]
  },
  {
   "cell_type": "markdown",
   "metadata": {},
   "source": [
    "\n",
    "Matriz de confusão para o conjunto teste."
   ]
  },
  {
   "cell_type": "code",
   "execution_count": 13,
   "metadata": {
    "scrolled": true
   },
   "outputs": [
    {
     "data": {
      "text/plain": [
       "array([[76,  0,  0,  1,  1,  0,  1,  0,  1,  0],\n",
       "       [ 0, 69,  0,  0,  0,  0,  1,  0,  2,  1],\n",
       "       [ 1,  0, 58,  3,  1,  0,  0,  3,  3,  2],\n",
       "       [ 0,  0,  3, 54,  1,  1,  1,  1,  2,  1],\n",
       "       [ 1,  1,  2,  0, 56,  0,  2,  0,  0,  0],\n",
       "       [ 1,  1,  0,  2,  1, 80,  0,  0,  4,  0],\n",
       "       [ 1,  0,  1,  0,  1,  3, 60,  0,  1,  1],\n",
       "       [ 2,  2,  0,  1,  0,  0,  0, 82,  0,  1],\n",
       "       [ 1,  1,  0,  2,  1,  2,  1,  0, 72,  1],\n",
       "       [ 1,  1,  0,  2,  1,  2,  0,  6,  0, 61]])"
      ]
     },
     "execution_count": 13,
     "metadata": {},
     "output_type": "execute_result"
    }
   ],
   "source": [
    "metrics.confusion_matrix(target_test_classes, predicted_test_classes)"
   ]
  },
  {
   "cell_type": "code",
   "execution_count": 14,
   "metadata": {
    "scrolled": false
   },
   "outputs": [
    {
     "name": "stdout",
     "output_type": "stream",
     "text": [
      "             precision    recall  f1-score   support\n",
      "\n",
      "          0       0.90      0.95      0.93        80\n",
      "          1       0.92      0.95      0.93        73\n",
      "          2       0.91      0.82      0.86        71\n",
      "          3       0.83      0.84      0.84        64\n",
      "          4       0.89      0.90      0.90        62\n",
      "          5       0.91      0.90      0.90        89\n",
      "          6       0.91      0.88      0.90        68\n",
      "          7       0.89      0.93      0.91        88\n",
      "          8       0.85      0.89      0.87        81\n",
      "          9       0.90      0.82      0.86        74\n",
      "\n",
      "avg / total       0.89      0.89      0.89       750\n",
      "\n"
     ]
    }
   ],
   "source": [
    "print(metrics.classification_report(target_test_classes, predicted_test_classes))"
   ]
  },
  {
   "cell_type": "markdown",
   "metadata": {},
   "source": [
    "### Precisão Final"
   ]
  },
  {
   "cell_type": "code",
   "execution_count": 15,
   "metadata": {
    "scrolled": true
   },
   "outputs": [
    {
     "name": "stdout",
     "output_type": "stream",
     "text": [
      "Dataset accuracy: 97.52%\n",
      "Test set accuracy: 89.07%\n"
     ]
    }
   ],
   "source": [
    "print(\"Dataset accuracy: {:.2%}\".format(\n",
    "    metrics.accuracy_score(target, predicted_classes)))\n",
    "print(\"Test set accuracy: {:.2%}\".format(\n",
    "    metrics.accuracy_score(target_test_classes, predicted_test_classes)))"
   ]
  }
 ],
 "metadata": {
  "kernelspec": {
   "display_name": "Python 3",
   "language": "python",
   "name": "python3"
  },
  "language_info": {
   "codemirror_mode": {
    "name": "ipython",
    "version": 3
   },
   "file_extension": ".py",
   "mimetype": "text/x-python",
   "name": "python",
   "nbconvert_exporter": "python",
   "pygments_lexer": "ipython3",
   "version": "3.5.2"
  }
 },
 "nbformat": 4,
 "nbformat_minor": 2
}
